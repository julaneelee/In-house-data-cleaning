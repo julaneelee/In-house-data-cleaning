{
  "nbformat": 4,
  "nbformat_minor": 0,
  "metadata": {
    "colab": {
      "provenance": [],
      "authorship_tag": "ABX9TyO0p2LXqmX1PSNlmeogcKrX",
      "include_colab_link": true
    },
    "kernelspec": {
      "name": "python3",
      "display_name": "Python 3"
    },
    "language_info": {
      "name": "python"
    }
  },
  "cells": [
    {
      "cell_type": "markdown",
      "metadata": {
        "id": "view-in-github",
        "colab_type": "text"
      },
      "source": [
        "<a href=\"https://colab.research.google.com/github/julaneelee/In-house-data-cleaning/blob/main/data_cleaning.ipynb\" target=\"_parent\"><img src=\"https://colab.research.google.com/assets/colab-badge.svg\" alt=\"Open In Colab\"/></a>"
      ]
    },
    {
      "cell_type": "markdown",
      "source": [
        "# **GE invitation email list **"
      ],
      "metadata": {
        "id": "1iq8CQXnMnmR"
      }
    },
    {
      "cell_type": "markdown",
      "source": [
        "## from MRS - author"
      ],
      "metadata": {
        "id": "0naM-EW3o9ow"
      }
    },
    {
      "cell_type": "code",
      "source": [
        "from os import read\n",
        "import pandas as pd\n",
        "import re\n",
        "\n",
        "MRS_author_excel=str(input(\"What is the path of MRS-author excel file in COLAB?: \"))\n",
        "# Load the entire Excel file\n",
        "print(MRS_author_excel)\n",
        "\n",
        "MRS_author_df = pd.read_excel(MRS_author_excel, sheet_name=\"Authors\")\n",
        "# print(MRS_author_df.head())\n",
        "print(MRS_author_df.columns.tolist())\n",
        "\n",
        "c_author_to_keep = ['Email', 'Country And Region']\n",
        "df_author_column = MRS_author_df[c_author_to_keep]\n",
        "#print(df_author_column.head())\n",
        "print(len(df_author_column))\n",
        "\n",
        "#*************************************************************\n",
        "#I want only Zone1\n",
        "\n",
        "df_author_column.loc[:, 'Country And Region'] = (\n",
        "    df_author_column['Country And Region'].astype(str).str.strip().str.lower()\n",
        ")\n",
        "# List of countries to keep\n",
        "countries_to_keep = [\n",
        "    \"Australia\",\"Austria\",\"Belgium\",\"Bulgaria\",\"Canada\",\"Croatia\",\"Cyprus\",\n",
        "    \"Czech Republic\",\"Denmark\",\"Estonia\",\"Finland\",\"England\",\"Scotland\",\"France\",\"Germany\",\"Greece\",\n",
        "    \"Hungary\",\"Iceland\",\"Ireland\",\"Italy\",\"Japan\",\"Korea\",\"South Korea\",\"Republic of Korea\",\"Latvia\",\n",
        "    \"Liechtenstein\",\"Lithuania\",\"Luxembourg\",\"Malta\",\"Netherlands\",\"the Netherlands\",\"New Zealand\",\n",
        "    \"Norway\",\"Poland\",\"Portugal\",\"Romania\",\"Slovakia\",\"Slovenia\",\n",
        "    \"Spain\",\"Sweden\",\"Switzerland\",\"Taiwan\",\"United Kingdom\",\"United States\",\"USA\",\"Usa\",\"UK\",\"Uk\",\n",
        "    \"Hong Kong\",\"Singapore\"\n",
        "]\n",
        "\n",
        "# Convert the list of countries to lowercase\n",
        "countries_to_keep_lower = [c.lower() for c in countries_to_keep]\n",
        "\n",
        "# Filter the dataframe ignoring case\n",
        "df_author_filtered_zone1 = df_author_column[\n",
        "    df_author_column['Country And Region'].isin(countries_to_keep_lower)].reset_index(drop=True)\n",
        "\n",
        "#print(df_author_filtered_zone1.head())\n",
        "#print(len(df_author_filtered_zone1))\n",
        "\n",
        "#*********************************************************************\n",
        "\n",
        "big_domains = [\n",
        "    \"gmail.com\", \"outlook.com\", \"yahoo.com\", \"icloud.com\",\n",
        "    \"hotmail.com\", \"naver.com\", \"windowslive.com\", \"hanmail.com\",\"googlemail.com\",\"samsung.com\",\n",
        "    \"live.com\", \"aol.com\", \"msn.com\", \"mail.com\", \"me.com\", \"mac.com\"\n",
        "]\n",
        "df_author_filtered_zone1 = df_author_filtered_zone1[\n",
        "    ~df_author_filtered_zone1['Email'].str.contains(\"student\", flags=re.IGNORECASE, na=False)\n",
        "].copy()\n",
        "\n",
        "# ดึง domain หลัง @\n",
        "df_author_filtered_zone1['Email_domain'] = df_author_filtered_zone1['Email'].str.split('@').str[-1].str.lower().str.strip()\n",
        "#print(df_filtered_email['Email_domain'] )\n",
        "\n",
        "# big domains + country-specific TLD\n",
        "allowed_domains = big_domains + [\n",
        "    'au','ac', 'at', 'be', 'bg', 'ca', 'hr', 'cy', 'cz', 'dk', 'ee', 'fi', 'fr', 'de', 'gr',\n",
        "    'hu', 'is', 'ie', 'il', 'it', 'jp', 'kr', 'lv', 'li', 'lt', 'lu', 'mt', 'nl', 'nz',\n",
        "    'no', 'pl', 'pt', 'ro', 'sk', 'si', 'es', 'se', 'ch', 'tw', 'uk', 'us', 'hk', 'sg','eu','edu','org','net'\n",
        "]\n",
        "allowed_domains_pattern = \"|\".join([re.escape(d) for d in allowed_domains])\n",
        "\n",
        "df_author_filtered_zone1_default  = df_author_filtered_zone1[\n",
        "    df_author_filtered_zone1['Email_domain'].str.contains(\n",
        "        f\"(?:{allowed_domains_pattern})$\", flags=re.IGNORECASE, na=False\n",
        "    )\n",
        "].reset_index(drop=True)\n",
        "\n",
        "df_author_filtered_zone1_default = df_author_filtered_zone1_default.drop(columns=['Email_domain'])\n",
        "#print(df_author_filtered_zone1_default.head())\n",
        "print(len(df_author_filtered_zone1_default))\n"
      ],
      "metadata": {
        "colab": {
          "base_uri": "https://localhost:8080/"
        },
        "collapsed": true,
        "id": "Oq__-4zyBj84",
        "outputId": "3202d2b8-cb8c-446f-f880-6994797f18f7"
      },
      "execution_count": null,
      "outputs": [
        {
          "output_type": "stream",
          "name": "stdout",
          "text": [
            "What is the path of MRS-author excel file in COLAB?: /content/author_d28658106968ca7acf52a25b2070c768.xlsx\n",
            "/content/author_d28658106968ca7acf52a25b2070c768.xlsx\n",
            "['Name', 'Last Name', 'Title', 'Email', 'Is correspondence', 'Journal', 'Issue', 'Section', 'SI', 'Msid', 'Title.1', 'Doi', 'Website', 'Susy link', 'Published date', 'Affiliation', 'Country And Region', 'Keywords', 'AE Name', 'AE Email', 'Owner Name', 'Owner Email', 'Author Type', 'Author Type Reason']\n",
            "3559\n",
            "2930\n",
            "                        Email Country And Region\n",
            "0   luigi.dellacorte@unina.it              italy\n",
            "1  graure.georgiana@gmail.com            romania\n",
            "2  patrascuanamarya@yahoo.com            romania\n",
            "3          mlpacheco@fc.ul.pt           portugal\n",
            "4   lorenzomoccia27@gmail.com              italy\n",
            "2832\n"
          ]
        }
      ]
    },
    {
      "cell_type": "code",
      "source": [
        "# Export file - only Author emails\n",
        "\n",
        "Author_email_only = df_author_filtered_zone1_default[\"Email\"].astype(str).str.encode('ascii', 'ignore').str.decode('ascii').str.strip().to_frame()\n",
        "#Author_email_only = pd.DataFrame(Author_email_only, columns=[\"Email\"])\n",
        "#print(Author_email_only)\n",
        "\n",
        "# Ask user for file name\n",
        "Author_email_only_filename = input(\"Enter the name for the Excel file (without extension): \").strip()\n",
        "\n",
        "# Ensure the file name ends with .xlsx\n",
        "if not Author_email_only_filename.endswith(\".xlsx\"):\n",
        "    Author_email_only_filename = Author_email_only_filename + \".xlsx\"\n",
        "\n",
        "# Export file\n",
        "Author_email_only.to_excel(Author_email_only_filename, index=False, engine=\"openpyxl\")\n",
        "print(f\"File saved as: {Author_email_only_filename}\")\n",
        "print(f\"Exported {len(Author_email_only)} rows to {Author_email_only_filename}\")\n"
      ],
      "metadata": {
        "colab": {
          "base_uri": "https://localhost:8080/"
        },
        "id": "S-tN858yGtgy",
        "outputId": "4ab88937-af73-418a-8dc1-712b0f6496f3"
      },
      "execution_count": null,
      "outputs": [
        {
          "output_type": "stream",
          "name": "stdout",
          "text": [
            "                                     Email\n",
            "0                luigi.dellacorte@unina.it\n",
            "1               graure.georgiana@gmail.com\n",
            "2               patrascuanamarya@yahoo.com\n",
            "3                       mlpacheco@fc.ul.pt\n",
            "4                lorenzomoccia27@gmail.com\n",
            "...                                    ...\n",
            "2827                      mdemasi@ap-hm.fr\n",
            "2828            giulia.calafato@aosp.bo.it\n",
            "2829  alejandro.interian@estudiante.uam.es\n",
            "2830            jerome.lechien@umons.ac.be\n",
            "2831            gerlig.widmann@i-med.ac.at\n",
            "\n",
            "[2832 rows x 1 columns]\n",
            "Enter the name for the Excel file (without extension): letgo\n",
            "File saved as: letgo.xlsx\n",
            "Exported 2832 rows to letgo.xlsx\n"
          ]
        }
      ]
    },
    {
      "cell_type": "markdown",
      "source": [
        "## ** from Scilit **"
      ],
      "metadata": {
        "id": "RVtNSJElnGML"
      }
    },
    {
      "cell_type": "code",
      "source": [
        "from os import read\n",
        "import pandas as pd\n",
        "import re\n",
        "\n",
        "Scilit_excel=str(input(\"What is the path of Scilit excel file in COLAB?: \"))\n",
        "# Load the entire Excel file\n",
        "print(Scilit_excel)\n",
        "\n",
        "Scilit_excel_df = pd.read_excel(Scilit_excel, sheet_name=\"Authors\")\n",
        "# print(Scilit_excel_df.head())\n",
        "print(Scilit_excel_df.columns.tolist())"
      ],
      "metadata": {
        "colab": {
          "base_uri": "https://localhost:8080/"
        },
        "id": "6bn-nlu4pMrA",
        "outputId": "f15b2c7b-bba3-42de-9353-8cffcbbf03fc"
      },
      "execution_count": 104,
      "outputs": [
        {
          "output_type": "stream",
          "name": "stdout",
          "text": [
            "What is the path of Scilit excel file in COLAB?: /content/Crude_export_author_20250821052855_151133.xlsx\n",
            "/content/Crude_export_author_20250821052855_151133.xlsx\n",
            "['Name', 'Affiliation', 'Country/Region', 'Email', 'Author Link', 'H Index', 'Article', 'Article Link', 'Total Citations', 'Published year', 'Journal title', 'Volume', 'First Page', 'Last Page', 'Keywords', 'Abstract']\n"
          ]
        }
      ]
    },
    {
      "cell_type": "code",
      "source": [
        "cs_author_to_keep = ['Email','Country/Region']\n",
        "df_scilit_column = Scilit_excel_df[cs_author_to_keep]\n",
        "#print(df_scilit_column)\n",
        "#print(Scilit_excel_df.head())\n",
        "\n",
        "#*************************************************************\n",
        "#I want only Zone1\n",
        "\n",
        "df_scilit_column.loc[:, 'Country/Region'] = (\n",
        "    df_scilit_column['Country/Region'].astype(str).str.strip().str.lower()\n",
        ")\n",
        "# List of countries to keep\n",
        "countries_to_keep = [\n",
        "    \"Australia\",\"Austria\",\"Belgium\",\"Bulgaria\",\"Canada\",\"Croatia\",\"Cyprus\",\n",
        "    \"Czech Republic\",\"Denmark\",\"Estonia\",\"Finland\",\"England\",\"Scotland\",\"France\",\"Germany\",\"Greece\",\n",
        "    \"Hungary\",\"Iceland\",\"Ireland\",\"Italy\",\"Japan\",\"Korea\",\"South Korea\",\"Republic of Korea\",\"Latvia\",\n",
        "    \"Liechtenstein\",\"Lithuania\",\"Luxembourg\",\"Malta\",\"Netherlands\",\"the Netherlands\",\"New Zealand\",\n",
        "    \"Norway\",\"Poland\",\"Portugal\",\"Romania\",\"Slovakia\",\"Slovenia\",\n",
        "    \"Spain\",\"Sweden\",\"Switzerland\",\"Taiwan\",\"United Kingdom\",\"United States\",\"USA\",\"Usa\",\"UK\",\"Uk\",\n",
        "    \"Hong Kong\",\"Singapore\"\n",
        "]\n",
        "\n",
        "# Convert the list of countries to lowercase\n",
        "countries_to_keep_lower = [c.lower() for c in countries_to_keep]\n",
        "\n",
        "# Filter the dataframe ignoring case\n",
        "Scilit_excel_df = df_scilit_column[\n",
        "    df_scilit_column['Country/Region'].isin(countries_to_keep_lower)].reset_index(drop=True)\n",
        "\n",
        "#print(Scilit_excel_df.head())\n",
        "#print(len(Scilit_excel_df))\n",
        "\n",
        "#*********************************************************************\n",
        "\n",
        "big_domains = [\n",
        "    \"gmail.com\", \"outlook.com\", \"yahoo.com\", \"icloud.com\",\n",
        "    \"hotmail.com\", \"naver.com\", \"windowslive.com\", \"hanmail.com\",\"googlemail.com\",\"samsung.com\",\n",
        "    \"live.com\", \"aol.com\", \"msn.com\", \"mail.com\", \"me.com\", \"mac.com\"\n",
        "]\n",
        "Scilit_excel_df = Scilit_excel_df[\n",
        "    ~Scilit_excel_df['Email'].str.contains(\"student\", flags=re.IGNORECASE, na=False)\n",
        "].copy()\n",
        "\n",
        "# ดึง domain หลัง @\n",
        "Scilit_excel_df['Email_domain'] = Scilit_excel_df['Email'].str.split('@').str[-1].str.lower().str.strip()\n",
        "#print(df_filtered_email['Email_domain'] )\n",
        "\n",
        "# big domains + country-specific TLD\n",
        "allowed_domains = big_domains + [\n",
        "    'au','ac', 'at', 'be', 'bg', 'ca', 'hr', 'cy', 'cz', 'dk', 'ee', 'fi', 'fr', 'de', 'gr',\n",
        "    'hu', 'is', 'ie', 'il', 'it', 'jp', 'kr', 'lv', 'li', 'lt', 'lu', 'mt', 'nl', 'nz',\n",
        "    'no', 'pl', 'pt', 'ro', 'sk', 'si', 'es', 'se', 'ch', 'tw', 'uk', 'us', 'hk', 'sg','eu','edu','org','net'\n",
        "]\n",
        "allowed_domains_pattern = \"|\".join([re.escape(d) for d in allowed_domains])\n",
        "\n",
        "Scilit_excel_df_default  = Scilit_excel_df[\n",
        "    Scilit_excel_df['Email_domain'].str.contains(\n",
        "        f\"(?:{allowed_domains_pattern})$\", flags=re.IGNORECASE, na=False\n",
        "    )\n",
        "].reset_index(drop=True)\n",
        "\n",
        "Scilit_excel_df_default = Scilit_excel_df_default.drop(columns=['Email_domain'])\n",
        "print(Scilit_excel_df_default.head())\n",
        "print(len(Scilit_excel_df_default))"
      ],
      "metadata": {
        "colab": {
          "base_uri": "https://localhost:8080/"
        },
        "id": "gA7A2onUoyEb",
        "outputId": "3ea0f616-027f-4d94-83c4-e09783a8c37c"
      },
      "execution_count": 109,
      "outputs": [
        {
          "output_type": "stream",
          "name": "stdout",
          "text": [
            "                     Email Country/Region\n",
            "0  asingh@southalabama.edu  united states\n",
            "1       rmitra@roseman.edu  united states\n",
            "2       zmgpg123@knu.ac.kr    south korea\n",
            "3      krhasan02@knu.ac.kr    south korea\n",
            "4         yuando@knu.ac.kr    south korea\n",
            "35130\n"
          ]
        }
      ]
    },
    {
      "cell_type": "code",
      "source": [
        "# Export file - only Author emails\n",
        "\n",
        "scilit_email_only = Scilit_excel_df_default[\"Email\"].astype(str).str.encode('ascii', 'ignore').str.decode('ascii').str.strip().to_frame()\n",
        "#scilit_email_only = pd.DataFrame(scilit_email_only, columns=[\"Email\"])\n",
        "#print(scilit_email_only)\n",
        "\n",
        "# Ask user for file name\n",
        "scilit_email_only_filename = input(\"Enter the name for the Excel file (without extension): \").strip()\n",
        "\n",
        "# Ensure the file name ends with .xlsx\n",
        "if not scilit_email_only_filename.endswith(\".xlsx\"):\n",
        "   scilit_email_only_filename = scilit_email_only_filename + \".xlsx\"\n",
        "\n",
        "# Export file\n",
        "scilit_email_only.to_excel(scilit_email_only_filename, index=False, engine=\"openpyxl\")\n",
        "print(f\"File saved as: {scilit_email_only_filename}\")\n",
        "print(f\"Exported {len(scilit_email_only)} rows to {scilit_email_only_filename}\")\n"
      ],
      "metadata": {
        "colab": {
          "base_uri": "https://localhost:8080/"
        },
        "id": "hhGkfLyOo3yC",
        "outputId": "f8b866cd-a75d-4ecd-b11a-a02a4a4e672b"
      },
      "execution_count": 107,
      "outputs": [
        {
          "output_type": "stream",
          "name": "stdout",
          "text": [
            "Enter the name for the Excel file (without extension): scilit-email\n",
            "File saved as: scilit-email.xlsx\n",
            "Exported 35130 rows to scilit-email.xlsx\n"
          ]
        }
      ]
    },
    {
      "cell_type": "markdown",
      "source": [
        "## ************After we get the file for export and upload to MRS-Editor-invited/SCILIT to get H-index, after get the file from MRS then REUPLOAD/IMPORT FILE TO HERE AGAIN!!!!***************"
      ],
      "metadata": {
        "id": "aegeG1C1TFWB"
      }
    },
    {
      "cell_type": "code",
      "source": [
        "MRS_editor_excel=str(input(\"What is the path of MRS-EDITOR excel file in COLAB?: \"))\n",
        "# Load the entire Excel file\n",
        "print(MRS_editor_excel)"
      ],
      "metadata": {
        "colab": {
          "base_uri": "https://localhost:8080/"
        },
        "id": "yvOeQM0CcUqx",
        "outputId": "c22687f4-47f0-4e3f-a206-3b0f9058a4ad"
      },
      "execution_count": 77,
      "outputs": [
        {
          "output_type": "stream",
          "name": "stdout",
          "text": [
            "What is the path of MRS-EDITOR excel file in COLAB?: /content/MRS_Data_Editor_Invited_1756579462.xlsx\n",
            "/content/MRS_Data_Editor_Invited_1756579462.xlsx\n"
          ]
        }
      ]
    },
    {
      "cell_type": "code",
      "source": [
        "\n",
        "\n",
        "MRS_editor_df = pd.read_excel(MRS_editor_excel, sheet_name=\"Sheet1\")\n",
        "# Columns to check\n",
        "cols_to_check_block = ['Block from editing Special Issue/Topic Collection as Guest Editor',\n",
        "                       'Block from receiving CfPs and similar emails',\n",
        "                       'Block from reviewing manuscripts',\n",
        "                       'Automated blacklist for CFP',\n",
        "                       'Block from newsletters and cooperate informations',\n",
        "                       'Block from receiving participation emails from Sciforum',\n",
        "                       'Block from being Topical Advisory Panel/Editorial Board Member',\n",
        "                       'Block from receiving employee recruit emails',\n",
        "                       'Receive MDPI Books Mailing'\n",
        "]\n",
        "\n",
        "# Keep only rows where none of the columns contain \"Yes\"\n",
        "MRS_editor_df_filtered = MRS_editor_df[~MRS_editor_df[cols_to_check_block].apply(lambda row: row.str.contains(\"Yes\", case=False, na=False)).any(axis=1)]\n",
        "MRS_editor_df_filtered = MRS_editor_df_filtered.drop(columns= cols_to_check_block)\n",
        "#print(MRS_editor_df_filtered.head())\n",
        "status_GE = [\"Guest Editor - Invited\",\n",
        "             \"Guest Editor - Uninvited\",\n",
        "             \"Guest Editor - Rejected\",\n",
        "             \"Topic Editor - Invited\",\n",
        "             \"Section Board Member - Invited\",\n",
        "             \"Section Board Member - Uninvited\",\n",
        "             \"Section Board Member - Rejected\",\n",
        "             \"Editorial Board Member - Invited\",\n",
        "             \"Editorial Board Member - Uninvited\",\n",
        "             \"Editorial Board Member - Rejected\",\n",
        "             \"RB-Invited\",\n",
        "             \"RB-Uninvited\",\n",
        "             \"RB-Rejected\",\n",
        "             \"Topical Advisory Panel Member - Invited\",\n",
        "             \"Topical Advisory Panel Member - Uninvited\",\n",
        "             \"Topical Advisory Panel Member - Rejected\"\n",
        "]\n",
        "\n",
        "# Keep only rows where column Status is in the list\n",
        "MRS_editor_df_filtered = MRS_editor_df_filtered[MRS_editor_df_filtered['Status'].isin(status_GE)]\n",
        "#print(MRS_editor_df_filtered.columns.to_list())\n",
        "MRS_editor_df_filtered = MRS_editor_df_filtered[['Email', 'Name', 'H-index', 'Invited Date', 'Status', 'Invited Numbers']]\n",
        "#print(MRS_editor_df_filtered.head())\n",
        "\n"
      ],
      "metadata": {
        "id": "BXPyhwZfTivB"
      },
      "execution_count": 100,
      "outputs": []
    },
    {
      "cell_type": "code",
      "source": [
        "import pandas as pd\n",
        "\n",
        "# Ensure Invited Date is datetime type\n",
        "MRS_editor_df_filtered['Invited Date'] = pd.to_datetime(MRS_editor_df_filtered['Invited Date'])\n",
        "\n",
        "# 1. Create new column with +90 days and +5 hours\n",
        "MRS_editor_df_filtered['Available Date (+90d5hrs)'] = MRS_editor_df_filtered['Invited Date'] + pd.Timedelta(days=90, hours=5)\n",
        "\n",
        "# 2. Ask user for H-index range\n",
        "min_h = float(input(\"Enter minimum H-index to keep: \"))\n",
        "max_h = float(input(\"Enter maximum H-index to keep: \"))\n",
        "\n",
        "# Convert H-index to numeric, remove non-numeric or blank\n",
        "MRS_editor_df_filtered['H-index'] = pd.to_numeric(MRS_editor_df_filtered['H-index'], errors='coerce')\n",
        "\n",
        "# Filter H-index dynamically\n",
        "MRS_editor_df_filtered = MRS_editor_df_filtered[\n",
        "    (MRS_editor_df_filtered['H-index'] >= min_h) &\n",
        "    (MRS_editor_df_filtered['H-index'] <= max_h)\n",
        "]\n",
        "\n",
        "# 3. Ask user for max Invited Numbers\n",
        "max_invited = float(input(\"Enter maximum Invited Numbers to keep (blank counted as 0): \"))\n",
        "\n",
        "# Convert Invited Numbers to numeric, fill blank/NaN with 0\n",
        "MRS_editor_df_filtered['Invited Numbers'] = pd.to_numeric(MRS_editor_df_filtered['Invited Numbers'], errors='coerce').fillna(0)\n",
        "\n",
        "# Filter Invited Numbers dynamically\n",
        "MRS_editor_df_filtered = MRS_editor_df_filtered[MRS_editor_df_filtered['Invited Numbers'] <= max_invited]\n",
        "\n",
        "#Remove \"Invited Date\" column\n",
        "MRS_editor_df_filtered = MRS_editor_df_filtered.drop(columns=['Invited Date'])\n",
        "\n",
        "# Show result\n",
        "print(MRS_editor_df_filtered.head())\n",
        "#print(len(MRS_editor_df_filtered))"
      ],
      "metadata": {
        "colab": {
          "base_uri": "https://localhost:8080/"
        },
        "id": "Zgo1uGsHeJPu",
        "outputId": "079be282-8d49-47d7-f5d7-9ebdbf7f30d0"
      },
      "execution_count": 101,
      "outputs": [
        {
          "output_type": "stream",
          "name": "stdout",
          "text": [
            "Enter minimum H-index to keep: 3\n",
            "Enter maximum H-index to keep: 10\n",
            "Enter maximum Invited Numbers to keep (blank counted as 0): 5\n",
            "                                Email                  Name  H-index  \\\n",
            "17      mathieu.di-bisceglie@ap-hm.fr  Mathieu Di Bisceglie      6.0   \n",
            "28            maria.daniel@wum.edu.pl          Maria Daniel      3.0   \n",
            "35  max.wilkat@med.uni-duesseldorf.de            Max Wilkat      6.0   \n",
            "75                  99drcho@gmail.com            Dosang Cho      8.0   \n",
            "90                      yshao@gwu.edu            Yijun Shao     10.0   \n",
            "\n",
            "                     Status  Invited Numbers Available Date (+90d5hrs)  \n",
            "17   Guest Editor - Invited                3       2025-08-18 15:53:41  \n",
            "28   Guest Editor - Invited                3       2025-09-18 10:53:41  \n",
            "35   Guest Editor - Invited                3       2025-10-02 16:58:03  \n",
            "75  Guest Editor - Rejected                1       2025-09-03 21:32:33  \n",
            "90   Guest Editor - Invited                5       2025-09-10 09:26:49  \n"
          ]
        }
      ]
    },
    {
      "cell_type": "code",
      "source": [
        "#Ask user for cutoff date (DD.MM.YYYY) and filter Invited Date Plus 90d5h\n",
        "user_date_input = input(\"Enter cutoff date (DD.MM.YYYY): \")\n",
        "cutoff_date = pd.to_datetime(user_date_input, format=\"%d.%m.%Y\")\n",
        "\n",
        "# Keep only rows where Invited Date Plus 90d5h is before or equal to cutoff\n",
        "new_filtered_df_invite = MRS_editor_df_filtered[MRS_editor_df_filtered['Available Date (+90d5hrs)'] <= cutoff_date].copy()\n",
        "\n",
        "# Display result\n",
        "#print(new_filtered_df_invite.head())\n",
        "print(\"Total rows after all filtering:\", len(new_filtered_df_invite))"
      ],
      "metadata": {
        "colab": {
          "base_uri": "https://localhost:8080/"
        },
        "id": "qC_5X4azg161",
        "outputId": "d6504607-4b51-4bd6-ae50-db7fc2485400"
      },
      "execution_count": 102,
      "outputs": [
        {
          "output_type": "stream",
          "name": "stdout",
          "text": [
            "Enter cutoff date (DD.MM.YYYY): 31.8.2025\n",
            "Total rows after all filtering: 32\n"
          ]
        }
      ]
    },
    {
      "cell_type": "code",
      "source": [
        "# Ask user for file name\n",
        "GE_invite_filename = input(\"Enter the name for GE invitation file (without extension): \").strip()\n",
        "\n",
        "# Ensure the file name ends with .xlsx\n",
        "if not GE_invite_filename.endswith(\".xlsx\"):\n",
        "    GE_invite_filename = GE_invite_filename + \".xlsx\"\n",
        "\n",
        "# Export file\n",
        "new_filtered_df_invite.to_excel(GE_invite_filename, index=False, engine=\"openpyxl\")\n",
        "print(f\"File saved as: {GE_invite_filename}\")\n",
        "print(f\"Exported {len(new_filtered_df_invite)} rows to {GE_invite_filename}\")"
      ],
      "metadata": {
        "colab": {
          "base_uri": "https://localhost:8080/"
        },
        "id": "rCbAvPxxh1MJ",
        "outputId": "a4b89bdc-5c22-4923-d6f1-e6bf44de2a62"
      },
      "execution_count": 93,
      "outputs": [
        {
          "output_type": "stream",
          "name": "stdout",
          "text": [
            "Enter the name for GE invitation file (without extension): GEinvite31.8\n",
            "File saved as: GEinvite31.8.xlsx\n",
            "Exported 49 rows to GEinvite31.8.xlsx\n"
          ]
        }
      ]
    },
    {
      "cell_type": "code",
      "source": [],
      "metadata": {
        "colab": {
          "base_uri": "https://localhost:8080/"
        },
        "id": "vQXwGGoLoTi5",
        "outputId": "006d2c4e-185e-4a23-993f-be0d14080fcd"
      },
      "execution_count": 103,
      "outputs": [
        {
          "output_type": "stream",
          "name": "stdout",
          "text": [
            "What is the path of Scilit excel file in COLAB?: /content/Crude_export_author_20250821052855_151133.xlsx\n",
            "/content/Crude_export_author_20250821052855_151133.xlsx\n",
            "['Name', 'Affiliation', 'Country/Region', 'Email', 'Author Link', 'H Index', 'Article', 'Article Link', 'Total Citations', 'Published year', 'Journal title', 'Volume', 'First Page', 'Last Page', 'Keywords', 'Abstract']\n"
          ]
        }
      ]
    },
    {
      "cell_type": "code",
      "source": [],
      "metadata": {
        "id": "jfqdb-ePnl8S"
      },
      "execution_count": null,
      "outputs": []
    },
    {
      "cell_type": "markdown",
      "source": [
        "# #**CFP- Email Invitation Preparation** from Purged - MDPI backend"
      ],
      "metadata": {
        "id": "0lmorP586LqR"
      }
    },
    {
      "cell_type": "markdown",
      "source": [
        "Import file we get from MDPI backend (Scilit request) or call \"Purged email\" >> Manually merge 'notMatch' sheet to 'purged' sheet (remove grey highlight, keep green, blue, yellow) >> file contains only one sheet name 'purged' >> Save as new file >> UPLOAD TO COLAB >> Fill in the PATH IN CODE >> RUN"
      ],
      "metadata": {
        "id": "BsUVlbfI-0L-"
      }
    },
    {
      "cell_type": "code",
      "source": [
        "from os import read\n",
        "import pandas as pd\n",
        "\n",
        "excel_file=str(input(\"What is the path of file in COLAB?: \"))\n",
        "# Load the entire Excel file\n",
        "print(excel_file)"
      ],
      "metadata": {
        "id": "39aOEU-dBfzt"
      },
      "execution_count": null,
      "outputs": []
    },
    {
      "cell_type": "code",
      "execution_count": null,
      "metadata": {
        "colab": {
          "base_uri": "https://localhost:8080/"
        },
        "collapsed": true,
        "id": "1GJP5JA9tDpN",
        "outputId": "0f17212b-811f-4fbd-92bc-4cd48892e270"
      },
      "outputs": [
        {
          "output_type": "stream",
          "name": "stdout",
          "text": [
            "['Name', 'EMail', 'Reference', 'Link', 'Google Scholar', 'TC', 'PY', 'Affiliation', 'Check', 'Country/Region', 'Publisher', 'Voucher amount', 'Central pay', 'Discount percent', 'Unnamed: 14']\n"
          ]
        }
      ],
      "source": [
        "\n",
        "# Option 1: Read all sheets into a dictionary of DataFrames\n",
        "df = pd.read_excel(excel_file, sheet_name=\"purged\") #sheet_name=None คืออ่านทั้งหมดทุกชีต\n",
        "\n",
        "# Print the sheet names\n",
        "#print(df.head())  #df.key() = List all sheet names in Excel file,\n",
        "print(df.columns.tolist()) # df.columns.tolist() = Get column name in list"
      ]
    },
    {
      "cell_type": "code",
      "source": [
        "columns_to_keep = ['Name', 'EMail', 'Reference', 'Affiliation', 'Country/Region']\n",
        "df_filtered_column = df[columns_to_keep]\n",
        "\n",
        "# Display the result\n",
        "print(df_filtered_column.head())\n"
      ],
      "metadata": {
        "colab": {
          "base_uri": "https://localhost:8080/"
        },
        "collapsed": true,
        "id": "TpiY565Wu-WA",
        "outputId": "15255847-b0d7-421f-9b20-1c9e4dced79a"
      },
      "execution_count": null,
      "outputs": [
        {
          "output_type": "stream",
          "name": "stdout",
          "text": [
            "            Name                                 EMail  \\\n",
            "0     Al-Swedani                  haya_ksa@hotmail.com   \n",
            "1  Dutsadeeviroj  kantrakorn.dut@student.mahidol.ac.th   \n",
            "2  Jiwsiritrakul   thanachot.jiw@student.mahidol.ac.th   \n",
            "3           Alle                  drudayalle@gmail.com   \n",
            "4          Jasen                 sara.jasen@dent.au.dk   \n",
            "\n",
            "                                           Reference  \\\n",
            "0  Knowledge and Perception of Orthodontic Treatm...   \n",
            "1  Significance of Non-Statistically Significant ...   \n",
            "2  Significance of Non-Statistically Significant ...   \n",
            "3  Interproximal Reduction Facilitating Orthodont...   \n",
            "4  Artificial Intelligence Applicability in Ortho...   \n",
            "\n",
            "                                         Affiliation Country/Region  \n",
            "0  Haya Al-Swedani (author), Private Clinic, Ha’i...   Saudi Arabia  \n",
            "1  Kantrakorn Dutsadeeviroj (author), Doctor of D...       Thailand  \n",
            "2  Thanachot Jiwsiritrakul (author), Doctor of De...       Thailand  \n",
            "3  Uday Kumar Alle (author), Phoenix Hosp, Orthod...            NaN  \n",
            "4             Sara Jasen (author), Aarhus University        Denmark  \n"
          ]
        }
      ]
    },
    {
      "cell_type": "code",
      "source": [
        "#I want only Zone1\n",
        "\n",
        "df_filtered_column.loc[:, 'Country/Region'] = (\n",
        "    df_filtered_column['Country/Region'].astype(str).str.strip().str.lower()\n",
        ")\n",
        "\n",
        "# List of countries to keep\n",
        "countries_to_keep = [\n",
        "    \"Australia\",\"Austria\",\"Belgium\",\"Bulgaria\",\"Canada\",\"Croatia\",\"Cyprus\",\n",
        "    \"Czech Republic\",\"Denmark\",\"Estonia\",\"Finland\",\"England\",\"Scotland\",\"France\",\"Germany\",\"Greece\",\n",
        "    \"Hungary\",\"Iceland\",\"Ireland\",\"Italy\",\"Japan\",\"Korea\",\"South Korea\",\"Republic of Korea\",\"Latvia\",\n",
        "    \"Liechtenstein\",\"Lithuania\",\"Luxembourg\",\"Malta\",\"Netherlands\",\"the Netherlands\",\"New Zealand\",\n",
        "    \"Norway\",\"Poland\",\"Portugal\",\"Romania\",\"Slovakia\",\"Slovenia\",\n",
        "    \"Spain\",\"Sweden\",\"Switzerland\",\"Taiwan\",\"United Kingdom\",\"United States\",\"USA\",\"Usa\",\"UK\",\"Uk\",\n",
        "    \"Hong Kong\",\"Singapore\"\n",
        "]\n",
        "\n",
        "# Convert the list of countries to lowercase\n",
        "countries_to_keep_lower = [c.lower() for c in countries_to_keep]\n",
        "\n",
        "# Filter the dataframe ignoring case\n",
        "df_filtered_zone1 = df_filtered_column[\n",
        "    df_filtered_column['Country/Region'].isin(countries_to_keep_lower)].reset_index(drop=True)\n",
        "\n",
        "print(df_filtered_zone1.head())\n",
        "print(len(df_filtered_zone1))"
      ],
      "metadata": {
        "colab": {
          "base_uri": "https://localhost:8080/"
        },
        "id": "83WMTTa_ykhh",
        "outputId": "ce4842d2-3772-4ac1-b4d8-2e85785d9a77",
        "collapsed": true
      },
      "execution_count": null,
      "outputs": [
        {
          "output_type": "stream",
          "name": "stdout",
          "text": [
            "        Name                                            EMail  \\\n",
            "0      Jasen                            sara.jasen@dent.au.dk   \n",
            "1   Marciani                      marciani.raffaele@gmail.com   \n",
            "2   Marahleh  aseel.mahmoud.suleiman.marahleh.e6@tohoku.ac.jp   \n",
            "3       Kühn                           praxis@nicola-planz.de   \n",
            "4  Galluccio                                gabgall@gmail.com   \n",
            "\n",
            "                                           Reference  \\\n",
            "0  Artificial Intelligence Applicability in Ortho...   \n",
            "1  Towards Sustainable Orthodontics: Environmenta...   \n",
            "2  The Role of Cytokines in Orthodontic Tooth Mov...   \n",
            "3  A Newly Developed Orthodontic-Logopedic Screen...   \n",
            "4  Treatment of Orthognathic Surgical Class III P...   \n",
            "\n",
            "                                         Affiliation Country/Region  \n",
            "0             Sara Jasen (author), Aarhus University        denmark  \n",
            "1  Raffaele Marciani (author), Department of Inno...          italy  \n",
            "2  Aseel Marahleh (author), Frontier Research Ins...          japan  \n",
            "3  Nicola Kühn (author), Praxis of Orthodontics N...        germany  \n",
            "4  Gabriella Galluccio (author), Department of Or...          italy  \n",
            "2924\n"
          ]
        }
      ]
    },
    {
      "cell_type": "code",
      "source": [
        "# I want to remove company affiliation, and thoese non-related affiliation to clinical medicine\n",
        "\n",
        "import re\n",
        "# ลบคำเกี่ยวกับ company + animal + agriculture\n",
        "pattern = r'\\b(?:inc|ltd|animal|veterinary|agricult|agriculture|agricultural)\\b'\n",
        "\n",
        "df_filtered_affiliation = df_filtered_zone1[\n",
        "    ~df_filtered_zone1['Affiliation'].str.contains(pattern, flags=re.IGNORECASE, na=False)\n",
        "].reset_index(drop=True)\n",
        "\n",
        "print(df_filtered_affiliation)"
      ],
      "metadata": {
        "colab": {
          "base_uri": "https://localhost:8080/"
        },
        "id": "_4WwRQV5__ua",
        "outputId": "b91df606-63fa-4185-ab12-e0c408f3d7f2",
        "collapsed": true
      },
      "execution_count": null,
      "outputs": [
        {
          "output_type": "stream",
          "name": "stdout",
          "text": [
            "           Name                                            EMail  \\\n",
            "0         Jasen                            sara.jasen@dent.au.dk   \n",
            "1      Marciani                      marciani.raffaele@gmail.com   \n",
            "2      Marahleh  aseel.mahmoud.suleiman.marahleh.e6@tohoku.ac.jp   \n",
            "3          Kühn                           praxis@nicola-planz.de   \n",
            "4     Galluccio                                gabgall@gmail.com   \n",
            "...         ...                                              ...   \n",
            "2897   Miyagawa              miyagawa.kazuaki.dent@osaka-u.ac.jp   \n",
            "2898    Takaoka                 takaoka.ryota.dent@osaka-u.ac.jp   \n",
            "2899    Poolsin                            w.s.poolsin@gmail.com   \n",
            "2900        Lee                                yejiali@gmail.com   \n",
            "2901      Ozaki                               ozakihry@gmail.com   \n",
            "\n",
            "                                              Reference  \\\n",
            "0     Artificial Intelligence Applicability in Ortho...   \n",
            "1     Towards Sustainable Orthodontics: Environmenta...   \n",
            "2     The Role of Cytokines in Orthodontic Tooth Mov...   \n",
            "3     A Newly Developed Orthodontic-Logopedic Screen...   \n",
            "4     Treatment of Orthognathic Surgical Class III P...   \n",
            "...                                                 ...   \n",
            "2897  Association between the timing of secondary al...   \n",
            "2898  Changes in occlusal relationships observed usi...   \n",
            "2899  Impact of Vertical Facial Patterns on Three-Di...   \n",
            "2900  The surgical outcomes of anterior segmental os...   \n",
            "2901  Three-Dimensional Finite Element Analysis of E...   \n",
            "\n",
            "                                            Affiliation Country/Region  \n",
            "0                Sara Jasen (author), Aarhus University        denmark  \n",
            "1     Raffaele Marciani (author), Department of Inno...          italy  \n",
            "2     Aseel Marahleh (author), Frontier Research Ins...          japan  \n",
            "3     Nicola Kühn (author), Praxis of Orthodontics N...        germany  \n",
            "4     Gabriella Galluccio (author), Department of Or...          italy  \n",
            "...                                                 ...            ...  \n",
            "2897  Kazuaki Miyagawa (author), Department of Oral ...          japan  \n",
            "2898  Ryota Takaoka (author), Department of Fixed Pr...          japan  \n",
            "2899  Wasuthorn Poolsin (author), Graduate institute...         taiwan  \n",
            "2900  Yeji Lee (author), Department of Orthodontics,...    south korea  \n",
            "2901  Hiroya Ozaki (author), Division of Orthodontic...          japan  \n",
            "\n",
            "[2902 rows x 5 columns]\n"
          ]
        }
      ]
    },
    {
      "cell_type": "code",
      "source": [
        "import re\n",
        "\n",
        "big_domains = [\n",
        "    \"gmail.com\", \"outlook.com\", \"yahoo.com\", \"icloud.com\",\n",
        "    \"hotmail.com\", \"naver.com\", \"windowslive.com\", \"hanmail.com\",\"googlemail.com\",\"samsung.com\",\n",
        "    \"live.com\", \"aol.com\", \"msn.com\", \"mail.com\", \"me.com\", \"mac.com\"\n",
        "]\n",
        "\n",
        "df_filtered_email = df_filtered_affiliation[\n",
        "    ~df_filtered_affiliation['EMail'].str.contains(\"student\", flags=re.IGNORECASE, na=False)\n",
        "].copy()\n",
        "\n",
        "# ดึง domain หลัง @\n",
        "df_filtered_email['Email_domain'] = df_filtered_email['EMail'].str.split('@').str[-1].str.lower().str.strip()\n",
        "#print(df_filtered_email['Email_domain'] )\n",
        "\n",
        "# big domains + country-specific TLD\n",
        "allowed_domains = big_domains + [\n",
        "    'au','ac', 'at', 'be', 'bg', 'ca', 'hr', 'cy', 'cz', 'dk', 'ee', 'fi', 'fr', 'de', 'gr',\n",
        "    'hu', 'is', 'ie', 'il', 'it', 'jp', 'kr', 'lv', 'li', 'lt', 'lu', 'mt', 'nl', 'nz',\n",
        "    'no', 'pl', 'pt', 'ro', 'sk', 'si', 'es', 'se', 'ch', 'tw', 'uk', 'us', 'hk', 'sg','eu','edu','org','net'\n",
        "]\n",
        "allowed_domains_pattern = \"|\".join([re.escape(d) for d in allowed_domains])\n",
        "\n",
        "df_default  = df_filtered_email[\n",
        "    df_filtered_email['Email_domain'].str.contains(\n",
        "        f\"(?:{allowed_domains_pattern})$\", flags=re.IGNORECASE, na=False\n",
        "    )\n",
        "].reset_index(drop=True)\n",
        "\n",
        "df_default = df_default.drop(columns=['Email_domain'])\n"
      ],
      "metadata": {
        "collapsed": true,
        "id": "ZWAQWpWLChcf"
      },
      "execution_count": null,
      "outputs": []
    },
    {
      "cell_type": "code",
      "source": [
        "print(df_default.head())\n",
        "print(len(df_default ))"
      ],
      "metadata": {
        "colab": {
          "base_uri": "https://localhost:8080/"
        },
        "collapsed": true,
        "id": "D3_XpBL-IpJr",
        "outputId": "508c31a4-58eb-49af-8eda-35dd073a5ae4"
      },
      "execution_count": null,
      "outputs": [
        {
          "output_type": "stream",
          "name": "stdout",
          "text": [
            "        Name                                            EMail  \\\n",
            "0      Jasen                            sara.jasen@dent.au.dk   \n",
            "1   Marciani                      marciani.raffaele@gmail.com   \n",
            "2   Marahleh  aseel.mahmoud.suleiman.marahleh.e6@tohoku.ac.jp   \n",
            "3       Kühn                           praxis@nicola-planz.de   \n",
            "4  Galluccio                                gabgall@gmail.com   \n",
            "\n",
            "                                           Reference  \\\n",
            "0  Artificial Intelligence Applicability in Ortho...   \n",
            "1  Towards Sustainable Orthodontics: Environmenta...   \n",
            "2  The Role of Cytokines in Orthodontic Tooth Mov...   \n",
            "3  A Newly Developed Orthodontic-Logopedic Screen...   \n",
            "4  Treatment of Orthognathic Surgical Class III P...   \n",
            "\n",
            "                                         Affiliation Country/Region  \n",
            "0             Sara Jasen (author), Aarhus University        denmark  \n",
            "1  Raffaele Marciani (author), Department of Inno...          italy  \n",
            "2  Aseel Marahleh (author), Frontier Research Ins...          japan  \n",
            "3  Nicola Kühn (author), Praxis of Orthodontics N...        germany  \n",
            "4  Gabriella Galluccio (author), Department of Or...          italy  \n",
            "2784\n"
          ]
        }
      ]
    },
    {
      "cell_type": "markdown",
      "source": [
        "## ❗(optional) Generate default file: filtered only Zone1 email + not company or not related to field outside medical scope"
      ],
      "metadata": {
        "id": "7hjdjUDxJF3q"
      }
    },
    {
      "cell_type": "code",
      "source": [
        "#In case you want simple filtered file (filtered only Zone1 email + not company or related to field outside medical scope)\n",
        "\n",
        "output_file_default = \"filtered_email_default.xlsx\"\n",
        "\n",
        "# Export เป็น Excel\n",
        "df_default.to_excel(output_file_default, index=False)\n",
        "\n",
        "print(f\"Exported {len(df_default)} rows to {output_file_default}\")"
      ],
      "metadata": {
        "id": "Clnb7KS8Encn",
        "colab": {
          "base_uri": "https://localhost:8080/"
        },
        "outputId": "4b38422f-6136-4d43-9985-6a756be83486"
      },
      "execution_count": null,
      "outputs": [
        {
          "output_type": "stream",
          "name": "stdout",
          "text": [
            "Exported 2784 rows to filtered_email_default.xlsx\n"
          ]
        }
      ]
    },
    {
      "cell_type": "markdown",
      "source": [
        "## ❤## **Affilitation column filtering** #เอาแค่ Email ที่มีชื่อ affiliation ตรงกับคำเฉพาะ"
      ],
      "metadata": {
        "id": "lp6CBY1J65AF"
      }
    },
    {
      "cell_type": "code",
      "source": [
        "# รับ input keyword จากผู้ใช้ (คั่นด้วย comma)\n",
        "user_input = input(\"กรอก keyword เพื่อเลือก Affiliation (คั่นด้วย comma): \")"
      ],
      "metadata": {
        "colab": {
          "base_uri": "https://localhost:8080/"
        },
        "id": "Cwnwijo9KBYz",
        "outputId": "16cc5805-9d8a-4233-a34c-815320396c8f"
      },
      "execution_count": null,
      "outputs": [
        {
          "name": "stdout",
          "output_type": "stream",
          "text": [
            "กรอก keyword เพื่อเลือก Affiliation (คั่นด้วย comma): orthodontic, odonto, maxillo,dental, oral, dentistry, perio, dento, prosthodontic\n"
          ]
        }
      ]
    },
    {
      "cell_type": "code",
      "source": [
        "\n",
        "keywords = [k.strip() for k in user_input.split(\",\")]\n",
        "\n",
        "# Create regex pattern:\n",
        "# - Use re.escape to avoid issues with special characters\n",
        "# - Add '.*' after the keyword to allow partial matches (e.g., \"maxillo\" -> \"maxillofacial\")\n",
        "# - Use optional plural with s? but keep it flexible\n",
        "pattern_list = [f\"{re.escape(k)}.*\" for k in keywords]\n",
        "print(pattern_list)\n",
        "pattern = \"|\".join(pattern_list)\n",
        "\n",
        "# Filter DataFrame (case-insensitive)\n",
        "df_affiliation_filtered = df_default[\n",
        "    df_default['Affiliation'].str.contains(pattern, flags=re.IGNORECASE, na=False)\n",
        "].reset_index(drop=True)\n",
        "\n",
        "# Display results\n",
        "print(df_affiliation_filtered.head())\n",
        "print(\"Total rows after filtering:\", len(df_affiliation_filtered))\n",
        "\n",
        "#orthodontic, odonto, maxillo,dental, oral, dentistry, perio, dento, prosthodontic"
      ],
      "metadata": {
        "colab": {
          "base_uri": "https://localhost:8080/"
        },
        "id": "vjQNFeZpMlR0",
        "outputId": "4219bdb9-d75a-46db-bede-96ea1725ee4e",
        "collapsed": true
      },
      "execution_count": null,
      "outputs": [
        {
          "output_type": "stream",
          "name": "stdout",
          "text": [
            "['orthodontic.*', 'odonto.*', 'maxillo.*', 'dental.*', 'oral.*', 'dentistry.*', 'perio.*', 'dento.*', 'prosthodontic.*']\n",
            "            Name                           EMail  \\\n",
            "0       Marciani     marciani.raffaele@gmail.com   \n",
            "1           Kühn          praxis@nicola-planz.de   \n",
            "2      Galluccio               gabgall@gmail.com   \n",
            "3  Siotto-Pintor          alexsiotto77@gmail.com   \n",
            "4          Carmo  marianaisidrodocarmo@gmail.com   \n",
            "\n",
            "                                           Reference  \\\n",
            "0  Towards Sustainable Orthodontics: Environmenta...   \n",
            "1  A Newly Developed Orthodontic-Logopedic Screen...   \n",
            "2  Treatment of Orthognathic Surgical Class III P...   \n",
            "3  Photodynamic Therapy in the Management of MDR ...   \n",
            "4  The Effects of Activated Carbon Toothpastes on...   \n",
            "\n",
            "                                         Affiliation Country/Region  \n",
            "0  Raffaele Marciani (author), Department of Inno...          italy  \n",
            "1  Nicola Kühn (author), Praxis of Orthodontics N...        germany  \n",
            "2  Gabriella Galluccio (author), Department of Or...          italy  \n",
            "3  Alessandra Siotto-Pintor (author), Oral Biotec...          italy  \n",
            "4  Mariana Isidro Do Carmo (author), Department o...       portugal  \n",
            "Total rows after filtering: 1966\n"
          ]
        }
      ]
    },
    {
      "cell_type": "markdown",
      "source": [
        "## ❗# (optional) Generate file ที่ specific keyword ใน affiliation # if you still do not want to get the file, it is no need to run"
      ],
      "metadata": {
        "id": "_KoI3fV9KKyI"
      }
    },
    {
      "cell_type": "code",
      "source": [
        "# กำหนด path และชื่อไฟล์ที่ต้องการบันทึก\n",
        "output_file = \"filtered_affiliation.xlsx\"\n",
        "\n",
        "# Export เป็น Excel\n",
        "df_affiliation_filtered.to_excel(output_file, index=False)\n",
        "\n",
        "print(f\"Exported {len(df_affiliation_filtered)} rows to {output_file}\")\n"
      ],
      "metadata": {
        "colab": {
          "base_uri": "https://localhost:8080/"
        },
        "id": "jpHHrxooQGC0",
        "outputId": "cde549fe-e8fa-439d-abce-ed1d9c6fd103"
      },
      "execution_count": null,
      "outputs": [
        {
          "output_type": "stream",
          "name": "stdout",
          "text": [
            "Exported 1265 rows to filtered_affiliation.xlsx\n"
          ]
        }
      ]
    },
    {
      "cell_type": "code",
      "source": [
        "print(df_affiliation_filtered)"
      ],
      "metadata": {
        "id": "iQ-qmCO56pi6",
        "colab": {
          "base_uri": "https://localhost:8080/"
        },
        "outputId": "4b51c563-a06b-485f-fd44-d2f18204849b",
        "collapsed": true
      },
      "execution_count": null,
      "outputs": [
        {
          "output_type": "stream",
          "name": "stdout",
          "text": [
            "               Name                                EMail  \\\n",
            "0          Marciani          marciani.raffaele@gmail.com   \n",
            "1              Kühn               praxis@nicola-planz.de   \n",
            "2         Galluccio                    gabgall@gmail.com   \n",
            "3     Siotto-Pintor               alexsiotto77@gmail.com   \n",
            "4             Carmo       marianaisidrodocarmo@gmail.com   \n",
            "...             ...                                  ...   \n",
            "1539       Miyagawa  miyagawa.kazuaki.dent@osaka-u.ac.jp   \n",
            "1540        Takaoka     takaoka.ryota.dent@osaka-u.ac.jp   \n",
            "1541        Poolsin                w.s.poolsin@gmail.com   \n",
            "1542            Lee                    yejiali@gmail.com   \n",
            "1543          Ozaki                   ozakihry@gmail.com   \n",
            "\n",
            "                                              Reference  \\\n",
            "0     Towards Sustainable Orthodontics: Environmenta...   \n",
            "1     A Newly Developed Orthodontic-Logopedic Screen...   \n",
            "2     Treatment of Orthognathic Surgical Class III P...   \n",
            "3     Photodynamic Therapy in the Management of MDR ...   \n",
            "4     The Effects of Activated Carbon Toothpastes on...   \n",
            "...                                                 ...   \n",
            "1539  Association between the timing of secondary al...   \n",
            "1540  Changes in occlusal relationships observed usi...   \n",
            "1541  Impact of Vertical Facial Patterns on Three-Di...   \n",
            "1542  The surgical outcomes of anterior segmental os...   \n",
            "1543  Three-Dimensional Finite Element Analysis of E...   \n",
            "\n",
            "                                            Affiliation Country/Region  \n",
            "0     Raffaele Marciani (author), Department of Inno...          italy  \n",
            "1     Nicola Kühn (author), Praxis of Orthodontics N...        germany  \n",
            "2     Gabriella Galluccio (author), Department of Or...          italy  \n",
            "3     Alessandra Siotto-Pintor (author), Oral Biotec...          italy  \n",
            "4     Mariana Isidro Do Carmo (author), Department o...       portugal  \n",
            "...                                                 ...            ...  \n",
            "1539  Kazuaki Miyagawa (author), Department of Oral ...          japan  \n",
            "1540  Ryota Takaoka (author), Department of Fixed Pr...          japan  \n",
            "1541  Wasuthorn Poolsin (author), Graduate institute...         taiwan  \n",
            "1542  Yeji Lee (author), Department of Orthodontics,...    south korea  \n",
            "1543  Hiroya Ozaki (author), Division of Orthodontic...          japan  \n",
            "\n",
            "[1544 rows x 5 columns]\n"
          ]
        }
      ]
    },
    {
      "cell_type": "markdown",
      "source": [
        "## ❤## **Reference filtering - keep only specific row that match to the input**"
      ],
      "metadata": {
        "id": "01V8vRiHg6kx"
      }
    },
    {
      "cell_type": "code",
      "source": [
        "# รับ input keyword จากผู้ใช้ (คั่นด้วย comma)\n",
        "reference_input = input(\"กรอก keyword in Reference (คั่นด้วย comma): \")"
      ],
      "metadata": {
        "id": "rjUd9G0Tg5Ka",
        "colab": {
          "base_uri": "https://localhost:8080/"
        },
        "outputId": "5e378c52-ecd2-4329-a41a-4f827ce11a5c"
      },
      "execution_count": null,
      "outputs": [
        {
          "name": "stdout",
          "output_type": "stream",
          "text": [
            "กรอก keyword in Reference (คั่นด้วย comma): orthodontic, odonto, maxillo,dental, oral, dentistry, perio, dento, prosthodontic\n"
          ]
        }
      ]
    },
    {
      "cell_type": "code",
      "source": [
        "keywords_ref = [k.strip() for k in reference_input.split(\",\")]\n",
        "\n",
        "# Create regex pattern:\n",
        "# - Use re.escape to avoid issues with special characters\n",
        "# - Add '.*' after the keyword to allow partial matches (e.g., \"maxillo\" -> \"maxillofacial\")\n",
        "# - Use optional plural with s? but keep it flexible\n",
        "pattern_list_ref = [f\"{re.escape(k)}.*\" for k in keywords_ref]\n",
        "print(pattern_list_ref)\n",
        "pattern_ref = \"|\".join(pattern_list_ref)\n",
        "\n",
        "# Filter DataFrame (case-insensitive)\n",
        "df_ref_filtered = df_default[\n",
        "    df_default['Reference'].str.contains(pattern_ref, flags=re.IGNORECASE, na=False)\n",
        "].reset_index(drop=True)\n",
        "\n",
        "# Display results\n",
        "print(df_ref_filtered.head())\n",
        "print(\"Total rows after filtering:\", len(df_ref_filtered))\n",
        "\n",
        "#orthodontic, odonto, maxillo,dental, oral, dentistry, perio, dento, prosthodontic"
      ],
      "metadata": {
        "colab": {
          "base_uri": "https://localhost:8080/"
        },
        "collapsed": true,
        "id": "Tgvi0HEJisXC",
        "outputId": "c473433d-4e70-4bd5-a771-68d5dedf13fd"
      },
      "execution_count": null,
      "outputs": [
        {
          "output_type": "stream",
          "name": "stdout",
          "text": [
            "['orthodontic.*', 'odonto.*', 'maxillo.*', 'dental.*', 'oral.*', 'dentistry.*', 'perio.*', 'dento.*', 'prosthodontic.*']\n",
            "       Name                                            EMail  \\\n",
            "0     Jasen                            sara.jasen@dent.au.dk   \n",
            "1  Marciani                      marciani.raffaele@gmail.com   \n",
            "2  Marahleh  aseel.mahmoud.suleiman.marahleh.e6@tohoku.ac.jp   \n",
            "3      Kühn                           praxis@nicola-planz.de   \n",
            "4      Gill                              daljit.gill@nhs.net   \n",
            "\n",
            "                                           Reference  \\\n",
            "0  Artificial Intelligence Applicability in Ortho...   \n",
            "1  Towards Sustainable Orthodontics: Environmenta...   \n",
            "2  The Role of Cytokines in Orthodontic Tooth Mov...   \n",
            "3  A Newly Developed Orthodontic-Logopedic Screen...   \n",
            "4  The role of orthodontics in the management of ...   \n",
            "\n",
            "                                         Affiliation Country/Region  \n",
            "0             Sara Jasen (author), Aarhus University        denmark  \n",
            "1  Raffaele Marciani (author), Department of Inno...          italy  \n",
            "2  Aseel Marahleh (author), Frontier Research Ins...          japan  \n",
            "3  Nicola Kühn (author), Praxis of Orthodontics N...        germany  \n",
            "4  Daljit S. Gill (author), Consultant Orthodonti...             uk  \n",
            "Total rows after filtering: 2075\n"
          ]
        }
      ]
    },
    {
      "cell_type": "markdown",
      "source": [
        "## ❗# (optional) Generate file ที่ specific keyword ใน reference # if you still do not want to get the file, it is no need to run"
      ],
      "metadata": {
        "id": "_NIpBqZwjf6Z"
      }
    },
    {
      "cell_type": "code",
      "source": [
        "# กำหนด path และชื่อไฟล์ที่ต้องการบันทึก\n",
        "output_file_ref = \"filtered_ref.xlsx\"\n",
        "\n",
        "# Export เป็น Excel\n",
        "df_ref_filtered.to_excel(output_file_ref, index=False)\n",
        "\n",
        "print(f\"Exported {len(df_ref_filtered)} rows to {output_file_ref}\")"
      ],
      "metadata": {
        "id": "y0h9jRgXji6Q"
      },
      "execution_count": null,
      "outputs": []
    },
    {
      "cell_type": "markdown",
      "source": [
        "## ⛳**Keep only rows that shares between Filtered Affiliation Datafrom Reference Dataframe **"
      ],
      "metadata": {
        "id": "-GvQG0oNltP-"
      }
    },
    {
      "cell_type": "code",
      "source": [
        "import pandas as pd\n",
        "specific_df_ref_aff=pd.merge(df_affiliation_filtered, df_ref_filtered, how='inner')"
      ],
      "metadata": {
        "id": "sYNJYF1AmV3o"
      },
      "execution_count": null,
      "outputs": []
    },
    {
      "cell_type": "code",
      "source": [
        "print(specific_df_ref_aff.head())\n",
        "print(len(specific_df_ref_aff))"
      ],
      "metadata": {
        "colab": {
          "base_uri": "https://localhost:8080/"
        },
        "id": "k32ddanOmm0T",
        "outputId": "e6e368d4-e2cd-49fb-f3d8-f248c7092d87"
      },
      "execution_count": null,
      "outputs": [
        {
          "output_type": "stream",
          "name": "stdout",
          "text": [
            "          Name                           EMail  \\\n",
            "0     Marciani     marciani.raffaele@gmail.com   \n",
            "1         Kühn          praxis@nicola-planz.de   \n",
            "2        Carmo  marianaisidrodocarmo@gmail.com   \n",
            "3  de la Torre         inmacoronado8@gmail.com   \n",
            "4        Grahl         grahlt1@unlv.nevada.edu   \n",
            "\n",
            "                                           Reference  \\\n",
            "0  Towards Sustainable Orthodontics: Environmenta...   \n",
            "1  A Newly Developed Orthodontic-Logopedic Screen...   \n",
            "2  The Effects of Activated Carbon Toothpastes on...   \n",
            "3  Analysis of the Relationship Between Body Mass...   \n",
            "4  Systematic Review and Meta Analysis of the Rel...   \n",
            "\n",
            "                                         Affiliation Country/Region  \n",
            "0  Raffaele Marciani (author), Department of Inno...          italy  \n",
            "1  Nicola Kühn (author), Praxis of Orthodontics N...        germany  \n",
            "2  Mariana Isidro Do Carmo (author), Department o...       portugal  \n",
            "3  Inmaculada Coronado de la Torre (author), Orth...          spain  \n",
            "4  Troy Grahl (author), Department of Clinical Sc...            usa  \n",
            "1504\n"
          ]
        }
      ]
    },
    {
      "cell_type": "markdown",
      "source": [
        "## **Generate final file to export **"
      ],
      "metadata": {
        "id": "_pUK_i3UogVN"
      }
    },
    {
      "cell_type": "code",
      "source": [
        "# กำหนด path และชื่อไฟล์ที่ต้องการบันทึก\n",
        "# Ask user for file name\n",
        "final_file_name = input(\"Enter the name for the Excel file (without extension): \").strip()\n",
        "\n",
        "# Ensure the file name ends with .xlsx\n",
        "if not final_file_name.endswith(\".xlsx\"):\n",
        "    final_file_name = final_file_name + \".xlsx\"\n",
        "\n",
        "# Save DataFrame to Excel\n",
        "specific_df_ref_aff.to_excel(final_file_name, index=False)\n",
        "\n",
        "print(f\"File saved as: {final_file_name}\")\n",
        "# Export เป็น Excel\n",
        "specific_df_ref_aff.to_excel(final_file_name, index=False)\n",
        "\n",
        "print(f\"Exported {len(specific_df_ref_aff)} rows to {final_file_name}\")"
      ],
      "metadata": {
        "colab": {
          "base_uri": "https://localhost:8080/"
        },
        "id": "12TCsLnGnQ9h",
        "outputId": "9e8dbfb0-8002-428f-ee97-d957b67fda37"
      },
      "execution_count": null,
      "outputs": [
        {
          "output_type": "stream",
          "name": "stdout",
          "text": [
            "Enter the name for the Excel file (without extension): orthodon_final\n",
            "File saved as: orthodon_final.xlsx\n",
            "Exported 1504 rows to orthodon_final.xlsx\n"
          ]
        }
      ]
    },
    {
      "cell_type": "markdown",
      "source": [
        "## (Optional)# **Concatenate 2 dataframes from Reference and Affiliation (Merge 2 dataframes) that contains specific keywords of both Reference and Affiliation**"
      ],
      "metadata": {
        "id": "Dme1v20fk4fG"
      }
    },
    {
      "cell_type": "code",
      "source": [
        "import pandas as pd\n",
        "\n",
        "merged_ref_aff = pd.concat([df_affiliation_filtered, df_ref_filtered]).drop_duplicates().reset_index(drop=True)"
      ],
      "metadata": {
        "id": "pVd5Z-w4k3z8"
      },
      "execution_count": null,
      "outputs": []
    },
    {
      "cell_type": "code",
      "source": [
        "print(merged_ref_aff.head())\n",
        "print(len(merged_ref_aff ))"
      ],
      "metadata": {
        "colab": {
          "base_uri": "https://localhost:8080/"
        },
        "id": "eum88Ndplazo",
        "outputId": "25ce1ec0-e2a4-4072-fc0d-d778f276d814",
        "collapsed": true
      },
      "execution_count": null,
      "outputs": [
        {
          "output_type": "stream",
          "name": "stdout",
          "text": [
            "               Name                               EMail  \\\n",
            "0          Marciani         marciani.raffaele@gmail.com   \n",
            "1              Kühn              praxis@nicola-planz.de   \n",
            "2         Galluccio                   gabgall@gmail.com   \n",
            "3     Siotto-Pintor              alexsiotto77@gmail.com   \n",
            "4             Carmo      marianaisidrodocarmo@gmail.com   \n",
            "...             ...                                 ...   \n",
            "2532        Pieroni              mi.pieroni@uniroma1.it   \n",
            "2533        Fragola          martinafragola@gaslini.org   \n",
            "2534          Zhang               mia.zhangyf@gmail.com   \n",
            "2535     Haghshenas  elaheh.haghshenas@bison.howard.edu   \n",
            "2536           Nash             linton@nashortho.com.au   \n",
            "\n",
            "                                              Reference  \\\n",
            "0     Towards Sustainable Orthodontics: Environmenta...   \n",
            "1     A Newly Developed Orthodontic-Logopedic Screen...   \n",
            "2     Treatment of Orthognathic Surgical Class III P...   \n",
            "3     Photodynamic Therapy in the Management of MDR ...   \n",
            "4     The Effects of Activated Carbon Toothpastes on...   \n",
            "...                                                 ...   \n",
            "2532  Epigenetic Signatures of Dental Stem Cells: In...   \n",
            "2533  Parental Perceptions and Actual Oral Health St...   \n",
            "2534  Interdisciplinary management of an adolescent ...   \n",
            "2535  Effect of Interdental Enamel Reduction on Clin...   \n",
            "2536  A novel methodology for assessing, evaluating,...   \n",
            "\n",
            "                                            Affiliation Country/Region  \n",
            "0     Raffaele Marciani (author), Department of Inno...          italy  \n",
            "1     Nicola Kühn (author), Praxis of Orthodontics N...        germany  \n",
            "2     Gabriella Galluccio (author), Department of Or...          italy  \n",
            "3     Alessandra Siotto-Pintor (author), Oral Biotec...          italy  \n",
            "4     Mariana Isidro Do Carmo (author), Department o...       portugal  \n",
            "...                                                 ...            ...  \n",
            "2532  Michele Pieroni (author), Department of Bioche...          italy  \n",
            "2533  Martina Fragola (author), Biostatistics Unit, ...          italy  \n",
            "2534  Y Zhang (author), Private Practice Sydney Aust...      australia  \n",
            "2535  Elaheh Shafiei Haghshenas (author), Howard Uni...            usa  \n",
            "2536  Linton J. Nash (author), Senior Orthodontist, ...      australia  \n",
            "\n",
            "[2537 rows x 5 columns]\n",
            "2537\n"
          ]
        }
      ]
    },
    {
      "cell_type": "code",
      "source": [
        "# กำหนด path และชื่อไฟล์ที่ต้องการบันทึก\n",
        "# Ask user for file name\n",
        "final_file_name2 = input(\"Enter the name for the Excel file (without extension): \").strip()\n",
        "\n",
        "# Ensure the file name ends with .xlsx\n",
        "if not final_file_name2.endswith(\".xlsx\"):\n",
        "    final_file_name2 = final_file_name2 + \".xlsx\"\n",
        "\n",
        "# Save DataFrame to Excel\n",
        "merged_ref_aff.to_excel(final_file_name2, index=False)\n",
        "\n",
        "print(f\"File saved as: {final_file_name2}\")\n",
        "# Export เป็น Excel\n",
        "merged_ref_aff.to_excel(final_file_name2, index=False)\n",
        "\n",
        "print(f\"Exported {len(merged_ref_aff)} rows to {final_file_name2}\")"
      ],
      "metadata": {
        "id": "6tkiFYVDp6FG"
      },
      "execution_count": null,
      "outputs": []
    },
    {
      "cell_type": "markdown",
      "source": [
        "## ********* From now you will get the file to export and upload in in-house system (Finder2, MRS-Editor invited) to find H-index of the scholars, IMPORT NEW FILE FROM IN-HOUSE SYSTEM AGAIN************"
      ],
      "metadata": {
        "id": "-bRBARKnr0S_"
      }
    },
    {
      "cell_type": "markdown",
      "source": [
        "☕☕☕☕☕☕☕☕☕☕☕☕☕☕☕☕☕☕☕☕☕☕☕☕☕☕☕☕☕☕☕☕☕☕☕☕☕"
      ],
      "metadata": {
        "id": "q7HK1pTWwYqV"
      }
    },
    {
      "cell_type": "code",
      "source": [
        "import pandas as pd\n",
        "\n",
        "import_file2=str(input(\"What is the path of file with H-index (got from MRS, Finder2) in COLAB?: \"))\n",
        "# Load the entire Excel file\n",
        "print(import_file2)"
      ],
      "metadata": {
        "colab": {
          "base_uri": "https://localhost:8080/"
        },
        "id": "LILlFRTBszav",
        "outputId": "868871b0-31aa-48e1-d21f-0dbb92036a56"
      },
      "execution_count": null,
      "outputs": [
        {
          "output_type": "stream",
          "name": "stdout",
          "text": [
            "What is the path of file with H-index (got from MRS, Finder2) in COLAB?: /content/hindex-finder2-ordontho.xlsx\n",
            "/content/hindex-finder2-ordontho.xlsx\n"
          ]
        }
      ]
    }
  ]
}